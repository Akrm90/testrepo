{
 "cells": [
  {
   "cell_type": "markdown",
   "id": "05f7d3d3-cc5c-415e-8d8e-6c7cf72dda7c",
   "metadata": {},
   "source": [
    "# Data Science Tools and Ecosystem"
   ]
  },
  {
   "cell_type": "markdown",
   "id": "2be05572-ca6e-4be8-815b-98d0abf5904d",
   "metadata": {},
   "source": [
    "# Introduction\n",
    "In this notebook, Data Science Tools and Ecosystem are summarized."
   ]
  },
  {
   "cell_type": "markdown",
   "id": "2358331d-b1b6-439d-b4a8-f1a749a16843",
   "metadata": {},
   "source": [
    "**Objectives:**\n",
    "\n"
   ]
  },
  {
   "cell_type": "markdown",
   "id": "e55a75c5-edd4-4411-b7a9-eedda78f129c",
   "metadata": {
    "tags": []
   },
   "source": [
    "- Describe the components of a Data Scientist's toolkit and list various tool categories\n",
    "\n",
    "- List examples of Open Source, Commercial, and Cloud-based tools in various categories\n",
    "\n",
    "- Define SQL elements and list their benefits.\n",
    "\n",
    "- Review languages such as Java, Scala, C++, JavaScript, and Julia."
   ]
  },
  {
   "cell_type": "markdown",
   "id": "169da823-affc-451e-b3fb-acb96359308b",
   "metadata": {},
   "source": [
    "Some of the popular languages that Data Scientists use are:"
   ]
  },
  {
   "cell_type": "markdown",
   "id": "f636dfba-0fb8-40fb-9db6-d51c461f8f33",
   "metadata": {
    "tags": []
   },
   "source": [
    "1. Pyton\n",
    "2. R\n",
    "3. Julia"
   ]
  },
  {
   "cell_type": "markdown",
   "id": "3ad8e147-8a47-4c37-b3d4-1a309db19c2c",
   "metadata": {},
   "source": [
    "Some of the commonly used libraries used by Data Scientists include:"
   ]
  },
  {
   "cell_type": "markdown",
   "id": "75383c73-9e36-431a-99ce-65cb9885fb80",
   "metadata": {},
   "source": [
    "1. Numpy\n",
    "2. Matplotlib\n",
    "3. Pandas"
   ]
  },
  {
   "cell_type": "markdown",
   "id": "f6f16846-3d92-43e7-b9bb-ae0c7c80b74d",
   "metadata": {},
   "source": [
    "|Data Science Tools|\n",
    "|------------------|\n",
    "| Jupyter Lab      |\n",
    "| Jupyter Notebook |\n",
    "|RStudio.          |"
   ]
  },
  {
   "cell_type": "markdown",
   "id": "3a6cc222-026e-4389-ac9f-f1dda4851b11",
   "metadata": {},
   "source": [
    "### Below are a few examples of evaluating arithmetic expressions in Python"
   ]
  },
  {
   "cell_type": "code",
   "execution_count": 4,
   "id": "5b038263-5083-4ff2-b5f9-70aff363db5b",
   "metadata": {
    "tags": []
   },
   "outputs": [
    {
     "data": {
      "text/plain": [
       "17"
      ]
     },
     "execution_count": 4,
     "metadata": {},
     "output_type": "execute_result"
    }
   ],
   "source": [
    "#  This a simple arithmetic expression to mutiply then add integers\n",
    "\n",
    "(3*4)+5"
   ]
  },
  {
   "cell_type": "code",
   "execution_count": 5,
   "id": "f964889b-0bf1-45d2-b1e0-57f38622f168",
   "metadata": {
    "tags": []
   },
   "outputs": [
    {
     "data": {
      "text/plain": [
       "3.3333333333333335"
      ]
     },
     "execution_count": 5,
     "metadata": {},
     "output_type": "execute_result"
    }
   ],
   "source": [
    "# This will convert 200 minutes to hours by diving by 60\n",
    "\n",
    "200/60"
   ]
  },
  {
   "cell_type": "markdown",
   "id": "3419af47-aa60-464e-9f4c-46863a7bdec6",
   "metadata": {},
   "source": [
    "## Author"
   ]
  },
  {
   "cell_type": "markdown",
   "id": "14fbe914-7ec6-4f17-a8e3-cad211ce76e9",
   "metadata": {},
   "source": [
    "Akram Othman"
   ]
  }
 ],
 "metadata": {
  "kernelspec": {
   "display_name": "Python",
   "language": "python",
   "name": "conda-env-python-py"
  },
  "language_info": {
   "codemirror_mode": {
    "name": "ipython",
    "version": 3
   },
   "file_extension": ".py",
   "mimetype": "text/x-python",
   "name": "python",
   "nbconvert_exporter": "python",
   "pygments_lexer": "ipython3",
   "version": "3.7.12"
  }
 },
 "nbformat": 4,
 "nbformat_minor": 5
}
